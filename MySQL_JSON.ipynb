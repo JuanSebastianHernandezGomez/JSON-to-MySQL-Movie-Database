{
 "cells": [
  {
   "cell_type": "markdown",
   "metadata": {},
   "source": [
    "# JSON-to-MySQL Movie Database"
   ]
  },
  {
   "cell_type": "markdown",
   "metadata": {},
   "source": [
    "The JSON-to-MySQL Movie Database project involves creating a relational database system using MySQL to store comprehensive information about movies, actors, directors, genres, and their relationships. The project also includes developing a Python script for uploading data from JSON files into the MySQL database.\n",
    "\n",
    "Tables:\n",
    "\n",
    "- ACTORS: This table stores information about actors.\n",
    "- DIRECTORS: Contains data about movie directors.\n",
    "- DIRECTORS_GENRES: A linking table that represents the many-to-many relationship between directors and genres.\n",
    "- MOVIES: Stores details about movies, including their unique IDs, titles, year, and rakingss.\n",
    "- MOVIES_GENRES: A linking table connecting movies with genres.\n",
    "- ROLES: This table contains information about the roles actors play in movies.\n",
    "- MOVIES_DIRECTORS: Another linking table that establishes the relationship between movies and directors.\n",
    "\n",
    "Following the next ER DIAGRAM:"
   ]
  },
  {
   "cell_type": "markdown",
   "metadata": {},
   "source": [
    "![IMDB](IMDB.png)"
   ]
  },
  {
   "cell_type": "markdown",
   "metadata": {},
   "source": [
    "## Import library"
   ]
  },
  {
   "cell_type": "code",
   "execution_count": 1,
   "metadata": {},
   "outputs": [],
   "source": [
    "import os \n",
    "import pandas\n",
    "import json\n",
    "import mysql.connector\n",
    "from tqdm import tqdm"
   ]
  },
  {
   "cell_type": "markdown",
   "metadata": {},
   "source": [
    "## Create Database and verification"
   ]
  },
  {
   "cell_type": "code",
   "execution_count": 2,
   "metadata": {},
   "outputs": [
    {
     "name": "stdout",
     "output_type": "stream",
     "text": [
      "('imdbjson',)\n",
      "('information_schema',)\n",
      "('mysql',)\n",
      "('performance_schema',)\n",
      "('sakila',)\n",
      "('sys',)\n",
      "('task',)\n",
      "('world',)\n"
     ]
    }
   ],
   "source": [
    "conn = mysql.connector.connect(host = \"localhost\",\n",
    "                                 user = \"root\",\n",
    "                                 passwd = \"jsonfile\")  \n",
    "cur = conn.cursor()\n",
    "#creating a new database  \n",
    "cur.execute(\"CREATE DATABASE IMDBJSON\")  # TO CREATE A NEW DATABASE UNCOMENT THIS LINE  \n",
    "#getting the list of all the databases which will now include the new database PythonDB  \n",
    "db = cur.execute(\"SHOW DATABASES\")   \n",
    "for x in cur:  \n",
    "    print(x)  # verify database is created \n",
    "conn.close() # Close Conection "
   ]
  },
  {
   "cell_type": "markdown",
   "metadata": {},
   "source": [
    "## Create tables based on ER SCHEMA"
   ]
  },
  {
   "cell_type": "code",
   "execution_count": 3,
   "metadata": {},
   "outputs": [],
   "source": [
    "\n",
    "conn = mysql.connector.connect(\n",
    "      host='localhost', \n",
    "      user='root', \n",
    "      password='jsonfile', \n",
    "      database='imdbjson'\n",
    "   )\n",
    "cur = conn.cursor()\n",
    "   #Creating Directors table \n",
    "sql ='''CREATE TABLE DIRECTORS (\n",
    "         ID INT(11) NOT NULL DEFAULT 0,\n",
    "         FIRST_NAME VARCHAR(100) DEFAULT NULL,\n",
    "         LAST_NAME  VARCHAR(100) DEFAULT NULL,\n",
    "         PRIMARY KEY (ID),\n",
    "         KEY DIRECTORS_FIRST_NAME (FIRST_NAME),\n",
    "         KEY DIRECTORS_LAST_NAME (LAST_NAME)\n",
    "         )ENGINE=INNODB;\n",
    "         '''\n",
    "cur.execute(sql)\n",
    "   #Creating actors table \n",
    "sql ='''CREATE TABLE ACTORS (\n",
    "         ID INT(11) NOT NULL DEFAULT 0,\n",
    "         FIRST_NAME VARCHAR(100) DEFAULT NULL,\n",
    "         LAST_NAME VARCHAR(100) DEFAULT NULL,\n",
    "         GENDER CHAR(1) DEFAULT NULL,\n",
    "         PRIMARY KEY (ID),\n",
    "         KEY ACTORS_FIRST_NAME (FIRST_NAME),\n",
    "         KEY ACTORS_LAST_NAME (LAST_NAME)\n",
    "         )ENGINE=INNODB;\n",
    "         '''\n",
    "cur.execute(sql)\n",
    "   #Creating movies table \n",
    "sql ='''CREATE TABLE MOVIES (\n",
    "         ID INT(11) NOT NULL DEFAULT 0,\n",
    "         NAME VARCHAR(100) DEFAULT NULL,\n",
    "         YEAR INT(11) DEFAULT NULL,\n",
    "         RANKED FLOAT DEFAULT NULL,\n",
    "         PRIMARY KEY (ID),\n",
    "         KEY MOVIES_NAME (NAME)\n",
    "         )ENGINE=INNODB;\n",
    "         '''\n",
    "cur.execute(sql)\n",
    "   #Creating directors genres table \n",
    "sql ='''CREATE TABLE DIRECTORS_GENRES (\n",
    "         DIRECTOR_ID INT(11) NOT NULL,\n",
    "         GENRE VARCHAR(100) NOT NULL,\n",
    "         PROB FLOAT DEFAULT NULL,\n",
    "         PRIMARY KEY (DIRECTOR_ID,GENRE),\n",
    "         KEY DIRECTOR_GENRES_DIRECTOR_ID (DIRECTOR_ID),\n",
    "         CONSTRAINT `DIRECTORS_GENRES__1` FOREIGN KEY (DIRECTOR_ID) REFERENCES DIRECTORS (ID) \n",
    "         ON DELETE CASCADE ON UPDATE CASCADE\n",
    "         ) ENGINE=INNODB;\n",
    "         '''\n",
    "cur.execute(sql)\n",
    "   #Creating movies director table \n",
    "sql ='''CREATE TABLE MOVIES_DIRECTORS (\n",
    "         DIRECTOR_ID INT(11) NOT NULL,\n",
    "         MOVIE_ID INT(11) NOT NULL,\n",
    "         PRIMARY KEY (DIRECTOR_ID,MOVIE_ID),\n",
    "         KEY MOVIES_DIRECTORS_DIRECTOR_ID (DIRECTOR_ID),\n",
    "         KEY MOVIES_DIRECTORS_MOVIE_ID (MOVIE_ID),\n",
    "         CONSTRAINT `MOVIES_DIRECTORS__1` FOREIGN KEY (DIRECTOR_ID) REFERENCES DIRECTORS (ID) \n",
    "         ON DELETE CASCADE ON UPDATE CASCADE,\n",
    "         CONSTRAINT `MOVIES_DIRECTORS__2` FOREIGN KEY (MOVIE_ID) REFERENCES MOVIES (ID) \n",
    "         ON DELETE CASCADE ON UPDATE CASCADE\n",
    "         ) ENGINE=INNODB;\n",
    "         '''\n",
    "cur.execute(sql)\n",
    "   #Creating roles  table \n",
    "sql ='''CREATE TABLE ROLES (\n",
    "         ACTOR_ID INT(11) NOT NULL,\n",
    "         MOVIE_ID INT(11) NOT NULL,\n",
    "         ROLE VARCHAR(100) NOT NULL,\n",
    "         PRIMARY KEY (ACTOR_ID,MOVIE_ID,ROLE),\n",
    "         KEY ACTOR_ID (ACTOR_ID),\n",
    "         KEY MOVIE_ID (MOVIE_ID),\n",
    "         CONSTRAINT ROLES__1 FOREIGN KEY (ACTOR_ID) REFERENCES ACTORS (ID)\n",
    "         ON DELETE CASCADE ON UPDATE CASCADE,\n",
    "         CONSTRAINT ROLES__2 FOREIGN KEY (MOVIE_ID) REFERENCES MOVIES (ID) \n",
    "         ON DELETE CASCADE ON UPDATE CASCADE\n",
    "         ) ENGINE=INNODB;\n",
    "         '''\n",
    "cur.execute(sql)\n",
    "   #Creating movies genres table \n",
    "sql ='''CREATE TABLE MOVIES_GENRES (\n",
    "         MOVIE_ID INT(11) NOT NULL,\n",
    "         GENRE VARCHAR(100) NOT NULL,\n",
    "         PRIMARY KEY (MOVIE_ID,GENRE),\n",
    "         KEY MOVIE_GENRES_MOVIE_ID (MOVIE_ID),\n",
    "         CONSTRAINT MOVIES_GENRES__1 FOREIGN KEY (MOVIE_ID) REFERENCES MOVIES (ID)\n",
    "         ON DELETE CASCADE ON UPDATE CASCADE\n",
    "         ) ENGINE=INNODB;\n",
    "         '''\n",
    "cur.execute(sql)\n",
    "\n"
   ]
  },
  {
   "cell_type": "markdown",
   "metadata": {},
   "source": [
    "## Upload JSON files provided to each table "
   ]
  },
  {
   "cell_type": "code",
   "execution_count": 4,
   "metadata": {},
   "outputs": [
    {
     "name": "stdout",
     "output_type": "stream",
     "text": [
      "Actors table uploading\n"
     ]
    },
    {
     "name": "stderr",
     "output_type": "stream",
     "text": [
      "100%|\u001b[33m██████████\u001b[0m| 10000/10000 [00:20<00:00, 483.35it/s]\n"
     ]
    },
    {
     "name": "stdout",
     "output_type": "stream",
     "text": [
      "Directors table uploading\n"
     ]
    },
    {
     "name": "stderr",
     "output_type": "stream",
     "text": [
      "100%|\u001b[34m██████████\u001b[0m| 10000/10000 [00:19<00:00, 503.95it/s]\n"
     ]
    },
    {
     "name": "stdout",
     "output_type": "stream",
     "text": [
      "Movies table uploading\n"
     ]
    },
    {
     "name": "stderr",
     "output_type": "stream",
     "text": [
      "100%|\u001b[31m██████████\u001b[0m| 10000/10000 [00:20<00:00, 486.92it/s]\n"
     ]
    },
    {
     "name": "stdout",
     "output_type": "stream",
     "text": [
      "Directors Genres table uploading\n"
     ]
    },
    {
     "name": "stderr",
     "output_type": "stream",
     "text": [
      "100%|\u001b[33m██████████\u001b[0m| 17376/17376 [00:41<00:00, 422.90it/s]\n"
     ]
    },
    {
     "name": "stdout",
     "output_type": "stream",
     "text": [
      "Movies Genres table uploading\n"
     ]
    },
    {
     "name": "stderr",
     "output_type": "stream",
     "text": [
      "100%|\u001b[34m██████████\u001b[0m| 10136/10136 [00:20<00:00, 501.79it/s]\n"
     ]
    },
    {
     "name": "stdout",
     "output_type": "stream",
     "text": [
      "Movies Directors table uploading\n"
     ]
    },
    {
     "name": "stderr",
     "output_type": "stream",
     "text": [
      "100%|\u001b[31m██████████\u001b[0m| 872/872 [00:01<00:00, 510.77it/s]\n"
     ]
    },
    {
     "name": "stdout",
     "output_type": "stream",
     "text": [
      "Roles table uploading\n"
     ]
    },
    {
     "name": "stderr",
     "output_type": "stream",
     "text": [
      "100%|\u001b[32m██████████\u001b[0m| 1139/1139 [00:02<00:00, 418.95it/s]\n"
     ]
    }
   ],
   "source": [
    "# Open json file for actors table\n",
    "with open ('actors.json','r') as f :\n",
    "    actors = json.load(f)\n",
    "# Upload json information for actors table to MySQL    \n",
    "print(\"Actors table uploading\")\n",
    "for item in tqdm(actors,colour=\"yellow\") : \n",
    "    i=(item[\"id\"],item[\"first_name\"],item[\"last_name\"],item[\"gender\"])\n",
    "    sql= \"\"\"INSERT into ACTORS (ID,FIRST_NAME, LAST_NAME,GENDER) VALUES(%s,%s,%s,%s)\"\"\"\n",
    "    cur.execute(sql,i)\n",
    "    conn.commit()\n",
    "    \n",
    "# Open json file for directors table\n",
    "with open ('directors.json','r') as f :\n",
    "    directors = json.load(f)\n",
    "# Upload json information for directors table to MySQL    \n",
    "print(\"Directors table uploading\")\n",
    "for item in tqdm(directors,colour=\"blue\") : \n",
    "    i=(item[\"id\"],item[\"first_name\"],item[\"last_name\"])\n",
    "    sql= \"\"\"INSERT into DIRECTORS (ID,FIRST_NAME, LAST_NAME) VALUES(%s,%s,%s)\"\"\"\n",
    "    cur.execute(sql,i)\n",
    "    conn.commit()\n",
    "    \n",
    "# Open json file for movies table\n",
    "with open ('movies.json','r') as f :\n",
    "    movies = json.load(f)\n",
    "# Upload json information for movies table to MySQL    \n",
    "print(\"Movies table uploading\")\n",
    "for item in tqdm(movies,colour=\"red\") : \n",
    "    i=(item[\"id\"],item[\"name\"],item[\"year\"],item[\"rank\"])\n",
    "    sql= \"\"\"INSERT into MOVIES (ID,NAME,YEAR,RANKED) VALUES(%s,%s,%s,%s)\"\"\"\n",
    "    cur.execute(sql,i)\n",
    "    conn.commit()\n",
    "\n",
    "# Open json file for directors genres table\n",
    "with open ('directorsgenres.json','r') as f :\n",
    "    directorsgenres = json.load(f)\n",
    "# Upload json information for director genres table to MySQL    \n",
    "print(\"Directors Genres table uploading\")\n",
    "for item in tqdm(directorsgenres,colour=\"yellow\") : \n",
    "    i=(item[\"director_id\"],item[\"genre\"],item[\"prob\"])\n",
    "    sql= \"\"\"INSERT into DIRECTORS_GENRES (DIRECTOR_ID,GENRE, PROB) VALUES(%s,%s,%s)\"\"\"\n",
    "    cur.execute(sql,i)\n",
    "    conn.commit()\n",
    "\n",
    "# Open json file for movies genres table\n",
    "with open ('moviesgenres.json','r') as f :\n",
    "    moviesgenres = json.load(f)\n",
    "# Upload json information for movies genres table to MySQL    \n",
    "print(\"Movies Genres table uploading\")\n",
    "for item in tqdm(moviesgenres,colour=\"blue\") : \n",
    "    i=(item[\"movie_id\"],item[\"genre\"])\n",
    "    sql= \"\"\"INSERT into MOVIES_GENRES (MOVIE_ID, GENRE) VALUES(%s,%s)\"\"\"\n",
    "    cur.execute(sql,i)\n",
    "    conn.commit()\n",
    "    \n",
    "# Open json file for movies directors table\n",
    "with open ('moviesdirectors.json','r') as f :\n",
    "    moviesdirectors = json.load(f)\n",
    "# Upload json information for movies directors table to MySQL    \n",
    "print(\"Movies Directors table uploading\")\n",
    "for item in tqdm(moviesdirectors,colour=\"red\") : \n",
    "    i=(item[\"director_id\"],item[\"movie_id\"])\n",
    "    sql= \"\"\"INSERT into MOVIES_DIRECTORS (DIRECTOR_ID, MOVIE_ID) VALUES(%s,%s)\"\"\"\n",
    "    cur.execute(sql,i)\n",
    "    conn.commit()\n",
    "    \n",
    "# Open json file for roles table\n",
    "with open ('roles.json','r') as f :\n",
    "    roles = json.load(f)\n",
    "# Upload json information for roles table to MySQL    \n",
    "print(\"Roles table uploading\")\n",
    "for item in tqdm(roles,colour=\"green\") : \n",
    "    i=(item[\"actor_id\"],item[\"movie_id\"],item[\"role\"])\n",
    "    sql= \"\"\"INSERT into ROLES (ACTOR_ID,MOVIE_ID,ROLE) VALUES(%s,%s,%s)\"\"\"\n",
    "    cur.execute(sql,i)\n",
    "    conn.commit()"
   ]
  },
  {
   "cell_type": "markdown",
   "metadata": {},
   "source": [
    "## Verify Number of row upload to each table"
   ]
  },
  {
   "cell_type": "code",
   "execution_count": 5,
   "metadata": {},
   "outputs": [
    {
     "name": "stdout",
     "output_type": "stream",
     "text": [
      "Number of rows in the table: ACTORS   10000\n",
      "Number of rows in the table: DIRECTORS   10000\n",
      "Number of rows in the table: DIRECTORS_GENRES   17376\n",
      "Number of rows in the table: MOVIES   10000\n",
      "Number of rows in the table: MOVIES_GENRES   10136\n",
      "Number of rows in the table: ROLES   1139\n",
      "Number of rows in the table: MOVIES_DIRECTORS   872\n"
     ]
    }
   ],
   "source": [
    "#Verify data was uploaded\n",
    "tables=[\"ACTORS\" , \"DIRECTORS\" , \"DIRECTORS_GENRES\", \"MOVIES\" , \"MOVIES_GENRES\" ,\"ROLES\",\"MOVIES_DIRECTORS\"]\n",
    "conn = mysql.connector.connect(\n",
    "      host='localhost', \n",
    "      user='root', \n",
    "      password='jsonfile', \n",
    "      database='imdbjson'\n",
    "   )\n",
    "cur = conn.cursor()\n",
    "for table in tables : \n",
    "   cur.execute(f\"SELECT COUNT(*) FROM {table}\") \n",
    "   result = cur.fetchone()\n",
    "   row_count = result[0]\n",
    "   print(\"Number of rows in the table:\", table,\" \",row_count)\n",
    "conn.close()"
   ]
  }
 ],
 "metadata": {
  "kernelspec": {
   "display_name": "Python 3",
   "language": "python",
   "name": "python3"
  },
  "language_info": {
   "codemirror_mode": {
    "name": "ipython",
    "version": 3
   },
   "file_extension": ".py",
   "mimetype": "text/x-python",
   "name": "python",
   "nbconvert_exporter": "python",
   "pygments_lexer": "ipython3",
   "version": "3.10.11"
  },
  "orig_nbformat": 4
 },
 "nbformat": 4,
 "nbformat_minor": 2
}
