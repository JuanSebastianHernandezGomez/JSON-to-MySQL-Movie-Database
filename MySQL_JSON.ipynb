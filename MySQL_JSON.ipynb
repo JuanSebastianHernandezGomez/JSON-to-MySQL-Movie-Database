{
 "cells": [
  {
   "cell_type": "markdown",
   "metadata": {},
   "source": [
    "# JSON-to-MySQL Movie Database"
   ]
  },
  {
   "cell_type": "markdown",
   "metadata": {},
   "source": [
    "The JSON-to-MySQL Movie Database project involves creating a relational database system using MySQL to store comprehensive information about movies, actors, directors, genres, and their relationships. The project also includes developing a Python script for uploading data from JSON files into the MySQL database.\n",
    "\n",
    "Tables:\n",
    "\n",
    "- ACTORS: This table stores information about actors.\n",
    "- DIRECTORS: Contains data about movie directors.\n",
    "- DIRECTORS_GENRES: A linking table that represents the many-to-many relationship between directors and genres.\n",
    "- MOVIES: Stores details about movies, including their unique IDs, titles, year, and rakingss.\n",
    "- MOVIES_GENRES: A linking table connecting movies with genres.\n",
    "- ROLES: This table contains information about the roles actors play in movies.\n",
    "- MOVIES_DIRECTORS: Another linking table that establishes the relationship between movies and directors.\n",
    "\n",
    "Following the next ER DIAGRAM:"
   ]
  },
  {
   "cell_type": "markdown",
   "metadata": {},
   "source": [
    "![IMDB](IMDB.png)"
   ]
  },
  {
   "cell_type": "markdown",
   "metadata": {},
   "source": [
    "## Import library"
   ]
  },
  {
   "cell_type": "code",
   "execution_count": 1,
   "metadata": {},
   "outputs": [],
   "source": [
    "import os \n",
    "import pandas\n",
    "import json\n",
    "import mysql.connector\n",
    "from tqdm import tqdm"
   ]
  },
  {
   "cell_type": "markdown",
   "metadata": {},
   "source": [
    "## Create Database and verification"
   ]
  },
  {
   "cell_type": "code",
   "execution_count": 2,
   "metadata": {},
   "outputs": [
    {
     "name": "stdout",
     "output_type": "stream",
     "text": [
      "('imdbjson',)\n",
      "('information_schema',)\n",
      "('mysql',)\n",
      "('performance_schema',)\n",
      "('sakila',)\n",
      "('sys',)\n",
      "('task',)\n",
      "('world',)\n"
     ]
    }
   ],
   "source": [
    "conn = mysql.connector.connect(host = \"localhost\",\n",
    "                                 user = \"root\",\n",
    "                                 passwd = \"jsonfile\")  \n",
    "cur = conn.cursor()\n",
    "#creating a new database  \n",
    "cur.execute(\"CREATE DATABASE IMDBJSON\")  # TO CREATE A NEW DATABASE UNCOMENT THIS LINE  \n",
    "#getting the list of all the databases which will now include the new database PythonDB  \n",
    "db = cur.execute(\"SHOW DATABASES\")   \n",
    "for x in cur:  \n",
    "    print(x)  # verify database is created \n",
    "conn.close() # Close Conection "
   ]
  },
  {
   "cell_type": "markdown",
   "metadata": {},
   "source": [
    "## Create tables based on ER SCHEMA"
   ]
  },
  {
   "cell_type": "code",
   "execution_count": 3,
   "metadata": {},
   "outputs": [],
   "source": [
    "\n",
    "conn = mysql.connector.connect(\n",
    "      host='localhost', \n",
    "      user='root', \n",
    "      password='jsonfile', \n",
    "      database='imdbjson'\n",
    "   )\n",
    "cur = conn.cursor()\n",
    "   #Creating Directors table \n",
    "sql ='''CREATE TABLE DIRECTORS (\n",
    "         ID INT(11) NOT NULL DEFAULT 0,\n",
    "         FIRST_NAME VARCHAR(100) DEFAULT NULL,\n",
    "         LAST_NAME  VARCHAR(100) DEFAULT NULL,\n",
    "         PRIMARY KEY (ID),\n",
    "         KEY DIRECTORS_FIRST_NAME (FIRST_NAME),\n",
    "         KEY DIRECTORS_LAST_NAME (LAST_NAME)\n",
    "         )ENGINE=INNODB;\n",
    "         '''\n",
    "cur.execute(sql)\n",
    "   #Creating actors table \n",
    "sql ='''CREATE TABLE ACTORS (\n",
    "         ID INT(11) NOT NULL DEFAULT 0,\n",
    "         FIRST_NAME VARCHAR(100) DEFAULT NULL,\n",
    "         LAST_NAME VARCHAR(100) DEFAULT NULL,\n",
    "         GENDER CHAR(1) DEFAULT NULL,\n",
    "         PRIMARY KEY (ID),\n",
    "         KEY ACTORS_FIRST_NAME (FIRST_NAME),\n",
    "         KEY ACTORS_LAST_NAME (LAST_NAME)\n",
    "         )ENGINE=INNODB;\n",
    "         '''\n",
    "cur.execute(sql)\n",
    "   #Creating movies table \n",
    "sql ='''CREATE TABLE MOVIES (\n",
    "         ID INT(11) NOT NULL DEFAULT 0,\n",
    "         NAME VARCHAR(100) DEFAULT NULL,\n",
    "         YEAR INT(11) DEFAULT NULL,\n",
    "         RANKED FLOAT DEFAULT NULL,\n",
    "         PRIMARY KEY (ID),\n",
    "         KEY MOVIES_NAME (NAME)\n",
    "         )ENGINE=INNODB;\n",
    "         '''\n",
    "cur.execute(sql)\n",
    "   #Creating directors genres table \n",
    "sql ='''CREATE TABLE DIRECTORS_GENRES (\n",
    "         DIRECTOR_ID INT(11) NOT NULL,\n",
    "         GENRE VARCHAR(100) NOT NULL,\n",
    "         PROB FLOAT DEFAULT NULL,\n",
    "         PRIMARY KEY (DIRECTOR_ID,GENRE),\n",
    "         KEY DIRECTOR_GENRES_DIRECTOR_ID (DIRECTOR_ID),\n",
    "         CONSTRAINT `DIRECTORS_GENRES__1` FOREIGN KEY (DIRECTOR_ID) REFERENCES DIRECTORS (ID) \n",
    "         ON DELETE CASCADE ON UPDATE CASCADE\n",
    "         ) ENGINE=INNODB;\n",
    "         '''\n",
    "cur.execute(sql)\n",
    "   #Creating movies director table \n",
    "sql ='''CREATE TABLE MOVIES_DIRECTORS (\n",
    "         DIRECTOR_ID INT(11) NOT NULL,\n",
    "         MOVIE_ID INT(11) NOT NULL,\n",
    "         PRIMARY KEY (DIRECTOR_ID,MOVIE_ID),\n",
    "         KEY MOVIES_DIRECTORS_DIRECTOR_ID (DIRECTOR_ID),\n",
    "         KEY MOVIES_DIRECTORS_MOVIE_ID (MOVIE_ID),\n",
    "         CONSTRAINT `MOVIES_DIRECTORS__1` FOREIGN KEY (DIRECTOR_ID) REFERENCES DIRECTORS (ID) \n",
    "         ON DELETE CASCADE ON UPDATE CASCADE,\n",
    "         CONSTRAINT `MOVIES_DIRECTORS__2` FOREIGN KEY (MOVIE_ID) REFERENCES MOVIES (ID) \n",
    "         ON DELETE CASCADE ON UPDATE CASCADE\n",
    "         ) ENGINE=INNODB;\n",
    "         '''\n",
    "cur.execute(sql)\n",
    "   #Creating roles  table \n",
    "sql ='''CREATE TABLE ROLES (\n",
    "         ACTOR_ID INT(11) NOT NULL,\n",
    "         MOVIE_ID INT(11) NOT NULL,\n",
    "         ROLE VARCHAR(100) NOT NULL,\n",
    "         PRIMARY KEY (ACTOR_ID,MOVIE_ID,ROLE),\n",
    "         KEY ACTOR_ID (ACTOR_ID),\n",
    "         KEY MOVIE_ID (MOVIE_ID),\n",
    "         CONSTRAINT ROLES__1 FOREIGN KEY (ACTOR_ID) REFERENCES ACTORS (ID)\n",
    "         ON DELETE CASCADE ON UPDATE CASCADE,\n",
    "         CONSTRAINT ROLES__2 FOREIGN KEY (MOVIE_ID) REFERENCES MOVIES (ID) \n",
    "         ON DELETE CASCADE ON UPDATE CASCADE\n",
    "         ) ENGINE=INNODB;\n",
    "         '''\n",
    "cur.execute(sql)\n",
    "   #Creating movies genres table \n",
    "sql ='''CREATE TABLE MOVIES_GENRES (\n",
    "         MOVIE_ID INT(11) NOT NULL,\n",
    "         GENRE VARCHAR(100) NOT NULL,\n",
    "         PRIMARY KEY (MOVIE_ID,GENRE),\n",
    "         KEY MOVIE_GENRES_MOVIE_ID (MOVIE_ID),\n",
    "         CONSTRAINT MOVIES_GENRES__1 FOREIGN KEY (MOVIE_ID) REFERENCES MOVIES (ID)\n",
    "         ON DELETE CASCADE ON UPDATE CASCADE\n",
    "         ) ENGINE=INNODB;\n",
    "         '''\n",
    "cur.execute(sql)\n",
    "\n"
   ]
  },
  {
   "cell_type": "markdown",
   "metadata": {},
   "source": [
    "## Upload JSON files provided to each table "
   ]
  },
  {
   "cell_type": "code",
   "execution_count": 4,
   "metadata": {},
   "outputs": [
    {
     "name": "stdout",
     "output_type": "stream",
     "text": [
      "ACTORS table uploading\n"
     ]
    },
    {
     "name": "stderr",
     "output_type": "stream",
     "text": [
      "  0%|\u001b[33m          \u001b[0m| 0/10000 [00:00<?, ?it/s]"
     ]
    },
    {
     "name": "stderr",
     "output_type": "stream",
     "text": [
      "100%|\u001b[33m██████████\u001b[0m| 10000/10000 [00:20<00:00, 484.46it/s]\n"
     ]
    },
    {
     "name": "stdout",
     "output_type": "stream",
     "text": [
      "DIRECTORS table uploading\n"
     ]
    },
    {
     "name": "stderr",
     "output_type": "stream",
     "text": [
      "100%|\u001b[34m██████████\u001b[0m| 10000/10000 [00:20<00:00, 497.58it/s]\n"
     ]
    },
    {
     "name": "stdout",
     "output_type": "stream",
     "text": [
      "MOVIES table uploading\n"
     ]
    },
    {
     "name": "stderr",
     "output_type": "stream",
     "text": [
      "100%|\u001b[31m██████████\u001b[0m| 10000/10000 [00:20<00:00, 494.78it/s]\n"
     ]
    },
    {
     "name": "stdout",
     "output_type": "stream",
     "text": [
      "DIRECTORS_GENRES table uploading\n"
     ]
    },
    {
     "name": "stderr",
     "output_type": "stream",
     "text": [
      "100%|\u001b[33m██████████\u001b[0m| 17376/17376 [00:46<00:00, 371.77it/s]\n"
     ]
    },
    {
     "name": "stdout",
     "output_type": "stream",
     "text": [
      "MOVIES_GENRES table uploading\n"
     ]
    },
    {
     "name": "stderr",
     "output_type": "stream",
     "text": [
      "100%|\u001b[34m██████████\u001b[0m| 10136/10136 [00:20<00:00, 497.34it/s]\n"
     ]
    },
    {
     "name": "stdout",
     "output_type": "stream",
     "text": [
      "MOVIES_DIRECTORS table uploading\n"
     ]
    },
    {
     "name": "stderr",
     "output_type": "stream",
     "text": [
      "100%|\u001b[31m██████████\u001b[0m| 872/872 [00:01<00:00, 500.61it/s]\n"
     ]
    },
    {
     "name": "stdout",
     "output_type": "stream",
     "text": [
      "ROLES table uploading\n"
     ]
    },
    {
     "name": "stderr",
     "output_type": "stream",
     "text": [
      "100%|\u001b[32m██████████\u001b[0m| 1139/1139 [00:02<00:00, 488.54it/s]\n"
     ]
    }
   ],
   "source": [
    "# Define a function to load JSON data and upload it to a MySQL table\n",
    "def upload_json_data(file_path, table_name, columns, tqdm_color):\n",
    "    with open(file_path, 'r') as f:\n",
    "        data = json.load(f)\n",
    "    \n",
    "    print(f\"{table_name} table uploading\")\n",
    "    \n",
    "    for item in tqdm(data, colour=tqdm_color):\n",
    "        values = tuple(item[column] for column in columns)\n",
    "        placeholders = ', '.join(['%s'] * len(columns))\n",
    "        sql = f\"INSERT INTO {table_name} ({', '.join(columns)}) VALUES ({placeholders})\"\n",
    "        # Define your database connection (conn) and cursor (cur) here\n",
    "        cur.execute(sql, values) \n",
    "        conn.commit()\n",
    "\n",
    "\n",
    "# Call the function for each JSON file and corresponding table\n",
    "upload_json_data('actors.json', 'ACTORS', ['id', 'first_name', 'last_name', 'gender'], 'yellow')\n",
    "upload_json_data('directors.json', 'DIRECTORS', ['id', 'first_name', 'last_name'], 'blue')\n",
    "upload_json_data('movies.json', 'MOVIES', ['id', 'name', 'year', 'ranked'], 'red')\n",
    "upload_json_data('directorsgenres.json', 'DIRECTORS_GENRES', ['director_id', 'genre', 'prob'], 'yellow')\n",
    "upload_json_data('moviesgenres.json', 'MOVIES_GENRES', ['movie_id', 'genre'], 'blue')\n",
    "upload_json_data('moviesdirectors.json', 'MOVIES_DIRECTORS', ['director_id', 'movie_id'], 'red')\n",
    "upload_json_data('roles.json', 'ROLES', ['actor_id', 'movie_id', 'role'], 'green')\n",
    "\n"
   ]
  },
  {
   "cell_type": "markdown",
   "metadata": {},
   "source": [
    "## Verify Number of row upload to each table"
   ]
  },
  {
   "cell_type": "code",
   "execution_count": 5,
   "metadata": {},
   "outputs": [
    {
     "name": "stdout",
     "output_type": "stream",
     "text": [
      "Number of rows in the table: ACTORS   10000\n",
      "Number of rows in the table: DIRECTORS   10000\n",
      "Number of rows in the table: DIRECTORS_GENRES   17376\n",
      "Number of rows in the table: MOVIES   10000\n",
      "Number of rows in the table: MOVIES_GENRES   10136\n",
      "Number of rows in the table: ROLES   1139\n",
      "Number of rows in the table: MOVIES_DIRECTORS   872\n"
     ]
    }
   ],
   "source": [
    "#Verify data was uploaded\n",
    "tables=[\"ACTORS\" , \"DIRECTORS\" , \"DIRECTORS_GENRES\", \"MOVIES\" , \"MOVIES_GENRES\" ,\"ROLES\",\"MOVIES_DIRECTORS\"]\n",
    "conn = mysql.connector.connect(\n",
    "      host='localhost', \n",
    "      user='root', \n",
    "      password='jsonfile', \n",
    "      database='imdbjson'\n",
    "   )\n",
    "cur = conn.cursor()\n",
    "for table in tables : \n",
    "   cur.execute(f\"SELECT COUNT(*) FROM {table}\") \n",
    "   result = cur.fetchone()\n",
    "   row_count = result[0]\n",
    "   print(\"Number of rows in the table:\", table,\" \",row_count)\n",
    "conn.close()"
   ]
  }
 ],
 "metadata": {
  "kernelspec": {
   "display_name": "Python 3",
   "language": "python",
   "name": "python3"
  },
  "language_info": {
   "codemirror_mode": {
    "name": "ipython",
    "version": 3
   },
   "file_extension": ".py",
   "mimetype": "text/x-python",
   "name": "python",
   "nbconvert_exporter": "python",
   "pygments_lexer": "ipython3",
   "version": "3.10.11"
  },
  "orig_nbformat": 4
 },
 "nbformat": 4,
 "nbformat_minor": 2
}
